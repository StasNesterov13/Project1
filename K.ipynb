{
 "cells": [
  {
   "cell_type": "code",
   "execution_count": 17,
   "id": "22d18959",
   "metadata": {},
   "outputs": [],
   "source": [
    "import numpy as np"
   ]
  },
  {
   "cell_type": "code",
   "execution_count": 53,
   "id": "65507ae1",
   "metadata": {},
   "outputs": [],
   "source": [
    "h = 14\n",
    "muo = 1.284 * 10**(-3)\n",
    "muw = 1.22 * 10**(-3)\n",
    "kgo = np.array([0.99720943, 0.98568845, 0.98004717, 0.99089811, 0.99272629,\n",
    "       0.99263208, 0.99649057, 0.99763351, 0.9970283 , 0.99879245,\n",
    "       0.99915094])\n",
    "kgw = np.array([0.00279057, 0.01431155, 0.01995283, 0.00910189, 0.00727371,\n",
    "       0.00736792, 0.00350943, 0.00236649, 0.0029717 , 0.00120755,\n",
    "       0.00084906])"
   ]
  },
  {
   "cell_type": "code",
   "execution_count": 54,
   "id": "673375c7",
   "metadata": {},
   "outputs": [],
   "source": [
    "kw = kgw * muw/(h * 86400 * 10**5)\n",
    "ko = kgo * muo/(h * 86400 * 10**5)"
   ]
  },
  {
   "cell_type": "code",
   "execution_count": 62,
   "id": "ee622758",
   "metadata": {},
   "outputs": [
    {
     "data": {
      "text/plain": [
       "array([0.39403882, 2.02084387, 2.8174135 , 1.28522058, 1.02707479,\n",
       "       1.04037759, 0.49554451, 0.33415715, 0.41961505, 0.17051053,\n",
       "       0.11989042])"
      ]
     },
     "execution_count": 62,
     "metadata": {},
     "output_type": "execute_result"
    }
   ],
   "source": [
    "kw * 10**15"
   ]
  },
  {
   "cell_type": "code",
   "execution_count": 63,
   "id": "189c3e41",
   "metadata": {},
   "outputs": [
    {
     "data": {
      "text/plain": [
       "array([148.1964014 , 146.48425576, 145.64589888, 147.25846913,\n",
       "       147.53015699, 147.51615633, 148.08957082, 148.2594244 ,\n",
       "       148.16948347, 148.43165576, 148.48493136])"
      ]
     },
     "execution_count": 63,
     "metadata": {},
     "output_type": "execute_result"
    }
   ],
   "source": [
    "ko * 10**15"
   ]
  },
  {
   "cell_type": "code",
   "execution_count": null,
   "id": "3c4dd720",
   "metadata": {},
   "outputs": [],
   "source": []
  }
 ],
 "metadata": {
  "kernelspec": {
   "display_name": "Python 3 (ipykernel)",
   "language": "python",
   "name": "python3"
  },
  "language_info": {
   "codemirror_mode": {
    "name": "ipython",
    "version": 3
   },
   "file_extension": ".py",
   "mimetype": "text/x-python",
   "name": "python",
   "nbconvert_exporter": "python",
   "pygments_lexer": "ipython3",
   "version": "3.9.13"
  }
 },
 "nbformat": 4,
 "nbformat_minor": 5
}
